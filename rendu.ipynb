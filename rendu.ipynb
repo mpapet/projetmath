{
 "cells": [
  {
   "cell_type": "code",
   "execution_count": null,
   "metadata": {},
   "outputs": [],
   "source": [
    "import math\n",
    "import matplotlib.pyplot as plt\n",
    "import numpy as np\n",
    "\n",
    "from IPython.display import display, Math, Latex\n",
    "import autograd\n",
    "from autograd import numpy as np\n"
   ]
  },
  {
   "cell_type": "markdown",
   "metadata": {},
   "source": [
    "# 1. Contour simple"
   ]
  },
  {
   "cell_type": "markdown",
   "metadata": {},
   "source": [
    "## Amorce"
   ]
  },
  {
   "cell_type": "raw",
   "metadata": {},
   "source": [
    "Pour s'assurer que l'on trouvera bien un t tel que f(0,t) = c sur l'intervalle [0, 1], on s'appuie sur le théorème des valeurs intermédiaires (la fonction f étant continûment différentiable), et on s'assure que la fonction telle que g(t) = f(0, t) - c change bien de signe sur notre intervalle.\n",
    "On implémente alors la fonction find_seed qui nous renvoie le t recherché, à epsilon près. La recherche de t est basée sur le principe de dichotomie :"
   ]
  },
  {
   "cell_type": "code",
   "execution_count": null,
   "metadata": {},
   "outputs": [],
   "source": [
    "def find_seed(g, x=0, c =0, eps = 2**(-26)):\n",
    "    \"\"\"\n",
    "    trouve la valeur t telle que g(t) = c à epsilon près\n",
    "    \"\"\"\n",
    "    \n",
    "    gauche = 0\n",
    "    droite = 1\n",
    "    \n",
    "    if (g(x,0)-c)*(g(x,1)-c) > 0 :\n",
    "        return None\n",
    "        \n",
    "    while ((droite-gauche)/2) >= eps :\n",
    "        milieu = (droite + gauche)/2\n",
    "        \n",
    "        if (g(x,droite)-c)*(g(x,milieu)-c)<=0 :\n",
    "            gauche = milieu\n",
    "        \n",
    "        else :\n",
    "            droite = milieu\n",
    "    \n",
    "    return (droite+gauche)/2"
   ]
  },
  {
   "cell_type": "markdown",
   "metadata": {},
   "source": [
    "## Propagation"
   ]
  },
  {
   "cell_type": "raw",
   "metadata": {},
   "source": [
    "On va maintenant implémenter une fonction qui renvoie une fraction de ligne de niveau (toujours contenue dans [0, 1]²), sous forme de deux tableaux contenant les abscisses et les ordonnées, en utilisant la fonction find_seed."
   ]
  },
  {
   "cell_type": "code",
   "execution_count": null,
   "metadata": {},
   "outputs": [],
   "source": [
    "def grad_f(x,y) :\n",
    "    g = autograd.grad\n",
    "    return np.r_[g(f,0)(x, y), g(f, 1)(x,y)]\n",
    "\n",
    "def simple_contour(f, c, delta = 0.01) :\n",
    "    \"\"\"\n",
    "    renvoie un fragment de ligne de niveau de valeur c de f\n",
    "    sou la forme de deux tableaux \n",
    "    \"\"\"\n",
    "    x = np.array()\n",
    "    y = np.array() \n",
    "    xo = 0\n",
    "    yo = find_seed (f, c)\n",
    "    if yo != None :\n",
    "        x.append(xo)\n",
    "        y.append(yo)\n",
    "        while xo < 1 and yo<1 :\n",
    "            grad = autograd.grad\n",
    "            orth = [grad[1], -grad[0]]\n",
    "            if orth[0] >= 0 :\n",
    "                xo = xo\n",
    "            "
   ]
  }
 ],
 "metadata": {
  "kernelspec": {
   "display_name": "Python 3",
   "language": "python",
   "name": "python3"
  },
  "language_info": {
   "codemirror_mode": {
    "name": "ipython",
    "version": 3
   },
   "file_extension": ".py",
   "mimetype": "text/x-python",
   "name": "python",
   "nbconvert_exporter": "python",
   "pygments_lexer": "ipython3",
   "version": "3.7.3"
  }
 },
 "nbformat": 4,
 "nbformat_minor": 2
}
