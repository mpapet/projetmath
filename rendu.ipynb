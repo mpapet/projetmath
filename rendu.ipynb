{
 "cells": [
  {
   "cell_type": "code",
   "execution_count": 12,
   "metadata": {},
   "outputs": [
    {
     "ename": "ModuleNotFoundError",
     "evalue": "No module named 'matplotlib'",
     "output_type": "error",
     "traceback": [
      "\u001b[1;31m---------------------------------------------------------------------------\u001b[0m",
      "\u001b[1;31mModuleNotFoundError\u001b[0m                       Traceback (most recent call last)",
      "\u001b[1;32m<ipython-input-12-3dd4ddb889cb>\u001b[0m in \u001b[0;36m<module>\u001b[1;34m\u001b[0m\n\u001b[0;32m      1\u001b[0m \u001b[1;32mimport\u001b[0m \u001b[0mnumpy\u001b[0m \u001b[1;32mas\u001b[0m \u001b[0mnp\u001b[0m\u001b[1;33m\u001b[0m\u001b[1;33m\u001b[0m\u001b[0m\n\u001b[0;32m      2\u001b[0m \u001b[1;32mimport\u001b[0m \u001b[0mautograd\u001b[0m\u001b[1;33m\u001b[0m\u001b[1;33m\u001b[0m\u001b[0m\n\u001b[1;32m----> 3\u001b[1;33m \u001b[1;32mimport\u001b[0m \u001b[0mmatplotlib\u001b[0m\u001b[1;33m.\u001b[0m\u001b[0mpyplot\u001b[0m \u001b[1;32mas\u001b[0m \u001b[0mplt\u001b[0m\u001b[1;33m\u001b[0m\u001b[1;33m\u001b[0m\u001b[0m\n\u001b[0m",
      "\u001b[1;31mModuleNotFoundError\u001b[0m: No module named 'matplotlib'"
     ]
    }
   ],
   "source": [
    "import numpy as np\n",
    "import autograd\n",
    "import matplotlib.pyplot as plt "
   ]
  },
  {
   "cell_type": "markdown",
   "metadata": {},
   "source": [
    "# 1. Contour simple"
   ]
  },
  {
   "cell_type": "markdown",
   "metadata": {},
   "source": [
    "## 1.1.Amorce"
   ]
  },
  {
   "cell_type": "markdown",
   "metadata": {},
   "source": [
    "Pour s'assurer que l'on trouvera bien un t tel que f(0,t) = c sur l'intervalle [0, 1], on s'appuie sur le théorème des valeurs intermédiaires (la fonction f étant continûment différentiable), et on s'assure que la fonction telle que g(t) = f(0, t) - c change bien de signe sur notre intervalle.\n",
    "On implémente alors la fonction find_seed qui nous renvoie le t recherché, à epsilon près. La recherche de t est basée sur le principe de dichotomie :"
   ]
  },
  {
   "cell_type": "code",
   "execution_count": 3,
   "metadata": {},
   "outputs": [],
   "source": [
    "def find_seed(g, x=0, c =0, eps = 2**(-26)):\n",
    "    \"\"\"\n",
    "    trouve la valeur t telle que g(t) = c à epsilon près\n",
    "    \"\"\"\n",
    "    \n",
    "    gauche = 0\n",
    "    droite = 1\n",
    "    \n",
    "    if (g(x,0)-c)*(g(x,1)-c) > 0 :\n",
    "        return None\n",
    "        \n",
    "    while ((droite-gauche)/2) >= eps :\n",
    "        milieu = (droite + gauche)/2\n",
    "        \n",
    "        if (g(x,droite)-c)*(g(x,milieu)-c)<=0 :\n",
    "            gauche = milieu\n",
    "        \n",
    "        else :\n",
    "            droite = milieu\n",
    "    \n",
    "    return (droite+gauche)/2"
   ]
  },
  {
   "cell_type": "markdown",
   "metadata": {},
   "source": [
    "## 1.2.Propagation"
   ]
  },
  {
   "cell_type": "markdown",
   "metadata": {},
   "source": [
    "1.2.1 Première propagation"
   ]
  },
  {
   "cell_type": "markdown",
   "metadata": {},
   "source": [
    "On va maintenant implémenter une fonction qui renvoie une fraction de ligne de niveau (toujours contenue dans [0, 1]²), sous forme de deux tableaux contenant les abscisses et les ordonnées, en utilisant la fonction find_seed."
   ]
  },
  {
   "cell_type": "code",
   "execution_count": 6,
   "metadata": {},
   "outputs": [],
   "source": [
    "def simple_contour1(f, c, delta=0.01) :\n",
    "    \"\"\"\n",
    "    renvoie un fragment de ligne de niveau de valeur c de f\n",
    "    sou la forme de deux tableaux \n",
    "    \"\"\"\n",
    "    xo = 0.0\n",
    "    yo = find_seed(f, xo, c)\n",
    "    if yo==None :\n",
    "        return [], []\n",
    "    X = []\n",
    "    Y=[]\n",
    "\n",
    "    while xo <=1 :\n",
    "        yo = find_seed(f, xo, c)\n",
    "        if yo != None :\n",
    "            X.append(xo)\n",
    "            Y.append(yo)\n",
    "        xo = xo + delta\n",
    "    return X, Y           "
   ]
  },
  {
   "cell_type": "code",
   "execution_count": 4,
   "metadata": {},
   "outputs": [
    {
     "ename": "NameError",
     "evalue": "name 'simple_contour1' is not defined",
     "output_type": "error",
     "traceback": [
      "\u001b[1;31m---------------------------------------------------------------------------\u001b[0m",
      "\u001b[1;31mNameError\u001b[0m                                 Traceback (most recent call last)",
      "\u001b[1;32m<ipython-input-4-49bb8d04df7e>\u001b[0m in \u001b[0;36m<module>\u001b[1;34m\u001b[0m\n\u001b[0;32m      3\u001b[0m     \u001b[1;32mreturn\u001b[0m \u001b[0my\u001b[0m\u001b[1;33m**\u001b[0m\u001b[1;36m2\u001b[0m\u001b[1;33m-\u001b[0m\u001b[0mx\u001b[0m\u001b[1;33m**\u001b[0m\u001b[1;36m2\u001b[0m\u001b[1;33m\u001b[0m\u001b[1;33m\u001b[0m\u001b[0m\n\u001b[0;32m      4\u001b[0m \u001b[1;33m\u001b[0m\u001b[0m\n\u001b[1;32m----> 5\u001b[1;33m \u001b[0mX\u001b[0m\u001b[1;33m,\u001b[0m \u001b[0mY\u001b[0m \u001b[1;33m=\u001b[0m \u001b[0msimple_contour1\u001b[0m\u001b[1;33m(\u001b[0m\u001b[0mf\u001b[0m\u001b[1;33m,\u001b[0m \u001b[1;36m0.2\u001b[0m \u001b[1;33m)\u001b[0m\u001b[1;33m\u001b[0m\u001b[1;33m\u001b[0m\u001b[0m\n\u001b[0m\u001b[0;32m      6\u001b[0m \u001b[0mXsec\u001b[0m \u001b[1;33m=\u001b[0m \u001b[0mnp\u001b[0m\u001b[1;33m.\u001b[0m\u001b[0marange\u001b[0m\u001b[1;33m(\u001b[0m\u001b[1;36m0\u001b[0m\u001b[1;33m,\u001b[0m \u001b[1;36m1\u001b[0m\u001b[1;33m,\u001b[0m \u001b[1;36m0.01\u001b[0m\u001b[1;33m)\u001b[0m\u001b[1;33m\u001b[0m\u001b[1;33m\u001b[0m\u001b[0m\n\u001b[0;32m      7\u001b[0m \u001b[0mYsec\u001b[0m \u001b[1;33m=\u001b[0m \u001b[0mnp\u001b[0m\u001b[1;33m.\u001b[0m\u001b[0marange\u001b[0m\u001b[1;33m(\u001b[0m\u001b[1;36m0\u001b[0m\u001b[1;33m,\u001b[0m \u001b[1;36m1\u001b[0m\u001b[1;33m,\u001b[0m \u001b[1;36m0.01\u001b[0m\u001b[1;33m)\u001b[0m\u001b[1;33m\u001b[0m\u001b[1;33m\u001b[0m\u001b[0m\n",
      "\u001b[1;31mNameError\u001b[0m: name 'simple_contour1' is not defined"
     ]
    }
   ],
   "source": [
    "## Test de notre permière fonction \n",
    "def f (x, y) :\n",
    "    return y**2-x**2\n",
    "\n",
    "X, Y = simple_contour1(f, 0.2 ) \n",
    "Xsec = np.arange(0, 1, 0.01)\n",
    "Ysec = np.arange(0, 1, 0.01)\n",
    "Xsec, Ysec = np.meshgrid(Xsec, Ysec)\n",
    "Z = f(Xsec, Ysec)\n",
    "plt.axis('equal')\n",
    "plt.contour(Xsec, Ysec, Z, [0.2])\n",
    "plt.plot(X,Y, label = 'Ligne de niveau tracée par notre fonction')\n",
    "plt.legend()\n",
    "plt.show()"
   ]
  },
  {
   "cell_type": "markdown",
   "metadata": {},
   "source": [
    "Notre première fonction présente plusieurs problèmes : \n",
    "- Pour une fonction plus complexe, plusieurs solutions pourraient être trouvée par la dichotomie, et on ne peut être certain que l'on obtiendra la bonne.\n",
    "- La condition d'arrêt suppose que la ligne de niveau atteigne un second bord, ce qui n'est pas forcément la cas..."
   ]
  },
  {
   "cell_type": "markdown",
   "metadata": {},
   "source": [
    "1.2.2 Deuxième propagation"
   ]
  },
  {
   "cell_type": "markdown",
   "metadata": {},
   "source": [
    "Commentaire sur l'efficacité de cette méthode\n",
    "Implémentation d'une seconde méthode avec gradient"
   ]
  },
  {
   "cell_type": "code",
   "execution_count": 6,
   "metadata": {
    "scrolled": true
   },
   "outputs": [],
   "source": [
    "def grad_f(x,y) :\n",
    "    \"\"\"\n",
    "    calcule le gradient de f au point (x, y)\n",
    "    \"\"\"\n",
    "    g = autograd.grad\n",
    "    return np.r_[g(f,0)(x, y), g(f, 1)(x,y)]\n",
    "\n",
    "def norme_un (vecteur) :\n",
    "    \"\"\"\n",
    "    prend en entrée un vecteur de R² et le rend unitaire\n",
    "    \"\"\"\n",
    "    return [vecteur[0]/(vecteur[0]**2 + vecteur[1]**2)**(1/2), vecteur[1]/(vecteur[0]**2 + vecteur[1]**2)**(1/2)]\n",
    "\n",
    "def simple_contour2(f, c, delta = 0.01) :\n",
    "    \"\"\"\n",
    "    renvoie un fragment de ligne de niveau de valeur c de f\n",
    "    sous la forme de deux tableaux \n",
    "    \"\"\" \n",
    "    xo = 0.0\n",
    "    yo = find_seed (f,xo,c)\n",
    "    x = [xo]\n",
    "    y = [yo]\n",
    "    if yo == None :\n",
    "        return [], []\n",
    "    else :\n",
    "        signe = grad_f(xo, yo)[1]/abs(grad_f(xo, yo)[1])\n",
    "        vecteur_directeur = norme_un([signe*grad_f(xo, yo)[1], -signe*grad_f(xo, yo)[0]])\n",
    "        xo = xo + vecteur_directeur[0]*delta\n",
    "        yo = yo + vecteur_directeur[1]*delta\n",
    "    while xo <= 1 and yo <= 1 :\n",
    "        x.append(xo)\n",
    "        y.append(yo)\n",
    "        vecteur_directeur = norme_un([signe*grad_f(xo, yo)[1], -signe*grad_f(xo, yo)[0]])\n",
    "        xo = xo + vecteur_directeur[0]*delta\n",
    "        yo = yo + vecteur_directeur[1]*delta\n",
    "    return x, y\n"
   ]
  },
  {
   "cell_type": "code",
   "execution_count": 14,
   "metadata": {},
   "outputs": [
    {
     "data": {
      "image/png": "[encoded data removed]",
      "text/plain": [
       "<Figure size 432x288 with 1 Axes>"
      ]
     },
     "metadata": {
      "needs_background": "light"
     },
     "output_type": "display_data"
    }
   ],
   "source": [
    "## Test de la deuxième fonction\n",
    "X, Y = simple_contour2(f, 0.2 ) \n",
    "Xsec = np.arange(0, 1, 0.01)\n",
    "Ysec = np.arange(0, 1, 0.01)\n",
    "Xsec, Ysec = np.meshgrid(Xsec, Ysec)\n",
    "Z = f(Xsec, Ysec)\n",
    "plt.axis('equal')\n",
    "plt.contour(Xsec, Ysec, Z, [0.2])\n",
    "plt.plot(X,Y, label = 'Ligne de niveau tracée par notre fonction')\n",
    "plt.legend()\n",
    "plt.show()"
   ]
  },
  {
   "cell_type": "markdown",
   "metadata": {},
   "source": [
    "1.2.3. Troisième propagation "
   ]
  },
  {
   "cell_type": "markdown",
   "metadata": {},
   "source": [
    "Nouvelle version améliorée par l'aléatoire"
   ]
  },
  {
   "cell_type": "code",
   "execution_count": 58,
   "metadata": {},
   "outputs": [],
   "source": [
    "import numpy as np\n",
    "import matplotlib.pyplot as plt\n",
    "from random import*\n",
    "\n",
    "def arc_cercle(vecteur, angle = np.pi/4) :\n",
    "    rotation1 = np.array([[np.cos(angle), -np.sin(angle)], [np.sin(angle), np.cos(angle)]])\n",
    "    vecteur1 = np.dot(rotation1 , vecteur)\n",
    "    rotation2 = np.array([[np.cos(angle), np.sin(angle)], [-np.sin(angle), np.cos(angle)]])\n",
    "    vecteur2 = np.dot(rotation2, vecteur)\n",
    "    return max(vecteur1[0], vecteur2[0])- min(vecteur1[0], vecteur2[0]) \n",
    "\n",
    "def max(x, y) :\n",
    "    if x >= y :\n",
    "        return x\n",
    "    else :\n",
    "        return y\n",
    "\n",
    "def min(x, y) :\n",
    "    if x <= y :\n",
    "        return x\n",
    "    else :\n",
    "        return y\n",
    "\n",
    "def simple_contour3(f, c, delta = 0.01, epsilon = 10**-12) :\n",
    "    \"\"\"\n",
    "    renvoie un fragment de ligne de niveau de valeur c de f\n",
    "    sous la forme de deux tableaux, sur la même méthode mais en affinant en générant un point aléatoire sur un arc de cercle\n",
    "    de centre le point précédent, de rayon delta et centré sur le point trouvé par la méthode classique \n",
    "    \"\"\"\n",
    "    x = []\n",
    "    y = []\n",
    "    xo = 0.0\n",
    "    yo = find_seed (f, xo ,c)\n",
    "    nouvx = xo\n",
    "    nouvy=yo\n",
    "    k = 0 # va compter le nombre de points trouvés sur l ligne de champ\n",
    "    if yo == None :\n",
    "        return x, y\n",
    "    else :\n",
    "        signe = grad_f(xo, yo)[1]/abs(grad_f(xo, yo)[1])\n",
    "        x.append(xo)\n",
    "        y.append(yo)\n",
    "        k+=1\n",
    "        vecteur_directeur = norme_un([signe*grad_f(xo, yo)[1], -1*signe*grad_f(xo, yo)[0]])\n",
    "        xo = xo + vecteur_directeur[0]*delta\n",
    "        yo = yo + vecteur_directeur[1]*delta        \n",
    "    while xo <= 1 and yo <= 1 and yo >=0 :\n",
    "        if abs(f(xo, yo) -c) > epsilon : \n",
    "            ## si le point n'est pas satistaisant, \n",
    "            ## on en cherche un dans son voisinage, à une distance delta du précédent, aléatoirement\n",
    "            n = 0 \n",
    "            while n < 5000 and abs(f(nouvx, nouvy)-c) > epsilon : \n",
    "                ## on veille à avoir un programme qui se termine toujours, même dans un cas dégénéré\n",
    "                n+=1\n",
    "                nouvx = x[k-1] + random()*(arc_cercle(np.array(vecteur_directeur)))\n",
    "                nouvy = (abs(nouvx**2 - delta**2))**(1/2)\n",
    "                if abs(f(nouvx, nouvy)-c) <= abs(f(xo, yo )-c) :\n",
    "                    xo = nouvx\n",
    "                    yo = nouvy \n",
    "        x.append(xo)\n",
    "        y.append(yo)\n",
    "        k+=1\n",
    "        vecteur_directeur = norme_un([signe*grad_f(xo, yo)[1], -1*signe*grad_f(xo, yo)[0]])\n",
    "        xo = xo + vecteur_directeur[0]*delta\n",
    "        yo = yo + vecteur_directeur[1]*delta\n",
    "    return x, y \n",
    "                "
   ]
  },
  {
   "cell_type": "code",
   "execution_count": 59,
   "metadata": {},
   "outputs": [
    {
     "data": {
      "image/png": "[encoded data removed]",
      "text/plain": [
       "<Figure size 432x288 with 1 Axes>"
      ]
     },
     "metadata": {
      "needs_background": "light"
     },
     "output_type": "display_data"
    }
   ],
   "source": [
    "X, Y = simple_contour3(f, 0.2 ) \n",
    "Xsec = np.arange(0, 1, 0.01)\n",
    "Ysec = np.arange(0, 1, 0.01)\n",
    "Xsec, Ysec = np.meshgrid(Xsec, Ysec)\n",
    "Z = f(Xsec, Ysec)\n",
    "plt.axis('equal')\n",
    "plt.contour(Xsec, Ysec, Z, [0.2])\n",
    "plt.plot(X,Y, label = 'Ligne de niveau tracée par notre fonction')\n",
    "plt.legend()\n",
    "plt.show()"
   ]
  },
  {
   "cell_type": "markdown",
   "metadata": {},
   "source": [
    "1.2.4. Bonus : application du théorème des fonctions implicites "
   ]
  },
  {
   "cell_type": "raw",
   "metadata": {},
   "source": [
    "On implémente une nouvelle version de simple contour qui utilise le théorème des fonctions implicites"
   ]
  },
  {
   "cell_type": "code",
   "execution_count": 9,
   "metadata": {},
   "outputs": [],
   "source": [
    "\n",
    "\n",
    "\n",
    "def simple_contour4(f,c,delta=0.01):  \n",
    "    x0=0.0\n",
    "    y0=find_seed(f,x0,c)\n",
    "    X=[x0]\n",
    "    Y=[y0]\n",
    "    \n",
    "    \n",
    "    while x0<=1 and y0<=1:\n",
    "       \n",
    "        x0=x0+delta\n",
    "        y0=y0+(-grad_f(x0,y0)[0]/grad_f(x0,y0)[1])*x0\n",
    "        X.append(x0)\n",
    "        Y.append(y0)\n",
    "    return X, Y\n"
   ]
  },
  {
   "cell_type": "raw",
   "metadata": {},
   "source": [
    "On teste cette version 4 pour une fonction f:"
   ]
  },
  {
   "cell_type": "code",
   "execution_count": 11,
   "metadata": {},
   "outputs": [
    {
     "ename": "NameError",
     "evalue": "name 'plt' is not defined",
     "output_type": "error",
     "traceback": [
      "\u001b[1;31m---------------------------------------------------------------------------\u001b[0m",
      "\u001b[1;31mNameError\u001b[0m                                 Traceback (most recent call last)",
      "\u001b[1;32m<ipython-input-11-5d672cbb77aa>\u001b[0m in \u001b[0;36m<module>\u001b[1;34m\u001b[0m\n\u001b[0;32m      1\u001b[0m \u001b[0mX\u001b[0m\u001b[1;33m,\u001b[0m \u001b[0mY\u001b[0m \u001b[1;33m=\u001b[0m \u001b[0msimple_contour4\u001b[0m\u001b[1;33m(\u001b[0m\u001b[0mf\u001b[0m\u001b[1;33m,\u001b[0m \u001b[1;36m0.2\u001b[0m \u001b[1;33m)\u001b[0m\u001b[1;33m\u001b[0m\u001b[1;33m\u001b[0m\u001b[0m\n\u001b[1;32m----> 2\u001b[1;33m \u001b[0mplt\u001b[0m\u001b[1;33m.\u001b[0m\u001b[0mplot\u001b[0m\u001b[1;33m(\u001b[0m\u001b[0mX\u001b[0m\u001b[1;33m,\u001b[0m\u001b[0mY\u001b[0m\u001b[1;33m)\u001b[0m\u001b[1;33m\u001b[0m\u001b[1;33m\u001b[0m\u001b[0m\n\u001b[0m\u001b[0;32m      3\u001b[0m \u001b[0mplt\u001b[0m\u001b[1;33m.\u001b[0m\u001b[0mshow\u001b[0m\u001b[1;33m(\u001b[0m\u001b[1;33m)\u001b[0m\u001b[1;33m\u001b[0m\u001b[1;33m\u001b[0m\u001b[0m\n",
      "\u001b[1;31mNameError\u001b[0m: name 'plt' is not defined"
     ]
    }
   ],
   "source": [
    "X, Y = simple_contour4(f, 0.2 ) \n",
    "Xsec = np.arange(0, 1, 0.01)\n",
    "Ysec = np.arange(0, 1, 0.01)\n",
    "Xsec, Ysec = np.meshgrid(Xsec, Ysec)\n",
    "Z = f(Xsec, Ysec)\n",
    "plt.axis('equal')\n",
    "plt.contour(Xsec, Ysec, Z, [0.2])\n",
    "plt.plot(X,Y, label = 'Ligne de niveau tracée par notre fonction')\n",
    "plt.legend()\n",
    "plt.show()\n"
   ]
  },
  {
   "cell_type": "raw",
   "metadata": {},
   "source": [
    "Comme on peut l'observer cette méthode n'est pas précise, on observe rapidement une divergence entre le modele obtenu avec cette dernière version et le modèle inclu dans python. Pour éviter cette divergence il faudrait controler l'écart entre la valeur de y0 obtenu avec le théorème des fonction implicite et la valeur réelle. Nous n'avons cependant pas eu le temps de réaliser cette étape."
   ]
  },
  {
   "cell_type": "markdown",
   "metadata": {},
   "source": [
    "# 2. Contour complexe "
   ]
  },
  {
   "cell_type": "raw",
   "metadata": {},
   "source": [
    "On utilise le code donné sur discourse "
   ]
  },
  {
   "cell_type": "raw",
   "metadata": {},
   "source": [
    "On définit un ensemble de focntion qui va permettre de tester find_seed sur les différentes arètes"
   ]
  },
  {
   "cell_type": "code",
   "execution_count": 13,
   "metadata": {},
   "outputs": [],
   "source": [
    "# Rotators\n",
    "# ------------------------------------------------------------------------------\n",
    "LEFT, UP, RIGHT, DOWN = 0, 1, 2, 3  # clockwise\n",
    "\n",
    "    \n",
    "    \n",
    "        "
   ]
  },
  {
   "cell_type": "code",
   "execution_count": 14,
   "metadata": {},
   "outputs": [],
   "source": [
    "def rotate_direction(direction, n=1):\n",
    "    return (direction + n) % 4"
   ]
  },
  {
   "cell_type": "code",
   "execution_count": 15,
   "metadata": {},
   "outputs": [],
   "source": [
    "def rotate(x, y, n=1):\n",
    "    if n == 0:\n",
    "        return x, y\n",
    "    elif n >= 1:\n",
    "        return rotate(1 - y, x, n - 1)\n",
    "    else:\n",
    "        assert n < 0\n",
    "        return rotate(x, y, n=-3 * n)\n"
   ]
  },
  {
   "cell_type": "code",
   "execution_count": 16,
   "metadata": {},
   "outputs": [],
   "source": [
    "def rotate_function(f, n=1):\n",
    "    def rotated_function(x, y):\n",
    "        xr, yr = rotate(x, y, -n)\n",
    "        return f(xr, yr)\n",
    "\n",
    "    return rotated_function\n"
   ]
  },
  {
   "cell_type": "raw",
   "metadata": {},
   "source": [
    "On peut désormais implémenter contour complexe."
   ]
  },
  {
   "cell_type": "code",
   "execution_count": 17,
   "metadata": {},
   "outputs": [],
   "source": [
    "def contour(f, c, xs=[0.0, 1.0], ys=[0.0, 1.0], delta=0.01):\n",
    "    curves = []\n",
    "    nx, ny = len(xs), len(ys)\n",
    "    for i in range(nx - 1):\n",
    "        for j in range(ny - 1):\n",
    "            xmin, xmax = xs[i], xs[i + 1]\n",
    "            ymin, ymax = ys[j], ys[j + 1]\n",
    "\n",
    "            def f_cell(x, y):\n",
    "                return f(xmin + (xmax - xmin) * x, ymin + (ymax - ymin) * y)\n",
    "\n",
    "            done = set()\n",
    "            for n in [0, 1, 2, 3]:\n",
    "                if n not in done:\n",
    "                    rotated_f_cell = rotate_function(f_cell, n)\n",
    "                    x_curve_r, y_curve_r = simple_contour2(rotated_f_cell, c, delta)\n",
    "                    exit = None\n",
    "                    if len(x_curve_r) >= 1:\n",
    "                        xf, yf = x_curve_r[-1], y_curve_r[-1]\n",
    "                        if xf == 0.0:\n",
    "                            exit = LEFT\n",
    "                        elif xf == 1.0:\n",
    "                            exit = RIGHT\n",
    "                        elif yf == 0.0:\n",
    "                            exit = DOWN\n",
    "                        elif yf == 1.0:\n",
    "                            exit = UP\n",
    "                    if exit is not None:  # a fully successful contour fragment\n",
    "                        exit = rotate_direction(exit, n)\n",
    "                        done.add(exit)\n",
    "\n",
    "                    x_curve, y_curve = [], []\n",
    "                    for x_r, y_r in zip(x_curve_r, y_curve_r):\n",
    "                        x, y = rotate(x_r, y_r, n=-n)\n",
    "                        x_curve.append(x)\n",
    "                        y_curve.append(y)\n",
    "                    x_curve = np.array(x_curve)\n",
    "                    y_curve = np.array(y_curve)\n",
    "                    curves.append(\n",
    "                        (xmin + (xmax - xmin) * x_curve, ymin + (ymax - ymin) * y_curve)\n",
    "                    )\n",
    "    return curves\n"
   ]
  },
  {
   "cell_type": "code",
   "execution_count": 19,
   "metadata": {},
   "outputs": [
    {
     "data": {
      "text/plain": [
       "[(array([0.        , 0.01      , 0.0199975 , 0.02998753, 0.03996519,\n",
       "         0.04992573, 0.0598646 , 0.06977747, 0.07966033, 0.08950946,\n",
       "         0.0993215 , 0.10909342, 0.1188226 , 0.12850674, 0.13814392,\n",
       "         0.14773258, 0.15727147, 0.16675965, 0.17619647, 0.18558155,\n",
       "         0.19491473, 0.20419609, 0.21342587, 0.2226045 , 0.23173252,\n",
       "         0.24081063, 0.24983959, 0.25882029, 0.26775367, 0.2766407 ,\n",
       "         0.28548244, 0.29427995, 0.30303431, 0.31174664, 0.32041803,\n",
       "         0.32904961, 0.33764247, 0.3461977 , 0.35471639, 0.3631996 ,\n",
       "         0.37164838, 0.38006373, 0.38844668, 0.39679818, 0.40511919,\n",
       "         0.41341063, 0.4216734 , 0.42990838, 0.43811641, 0.44629831,\n",
       "         0.45445488, 0.46258688, 0.47069506, 0.47878013, 0.4868428 ,\n",
       "         0.49488373, 0.50290358, 0.51090297, 0.51888251, 0.52684278,\n",
       "         0.53478435, 0.54270777, 0.55061355, 0.55850222, 0.56637426,\n",
       "         0.57423014, 0.58207033, 0.58989526, 0.59770537, 0.60550106,\n",
       "         0.61328273, 0.62105078, 0.62880556, 0.63654744, 0.64427677,\n",
       "         0.65199388, 0.6596991 , 0.66739273, 0.67507509, 0.68274647,\n",
       "         0.69040715, 0.6980574 , 0.70569749, 0.71332768, 0.72094821,\n",
       "         0.72855933, 0.73616127, 0.74375426, 0.75133851, 0.75891423,\n",
       "         0.76648164, 0.77404093, 0.78159229, 0.78913592, 0.79667198,\n",
       "         0.80420067, 0.81172214, 0.81923657, 0.82674411, 0.83424492,\n",
       "         0.84173916, 0.84922697, 0.85670848, 0.86418385, 0.87165321,\n",
       "         0.87911668, 0.8865744 , 0.89402648]),\n",
       "  array([0.4472136 , 0.4472136 , 0.44743715, 0.44788364, 0.44855168,\n",
       "         0.44943915, 0.4505432 , 0.45186035, 0.45338648, 0.45511698,\n",
       "         0.45704675, 0.4591703 , 0.46148184, 0.46397531, 0.46664452,\n",
       "         0.46948311, 0.47248472, 0.47564296, 0.47895149, 0.48240407,\n",
       "         0.48599456, 0.48971698, 0.4935655 , 0.49753449, 0.5016185 ,\n",
       "         0.50581231, 0.51011088, 0.51450941, 0.51900328, 0.5235881 ,\n",
       "         0.52825968, 0.53301403, 0.53784737, 0.54275607, 0.54773672,\n",
       "         0.55278607, 0.55790102, 0.56307866, 0.56831621, 0.57361103,\n",
       "         0.57896064, 0.58436265, 0.58981483, 0.59531506, 0.6008613 ,\n",
       "         0.60645164, 0.61208428, 0.61775747, 0.62346958, 0.62921906,\n",
       "         0.63500443, 0.64082427, 0.64667726, 0.65256212, 0.65847764,\n",
       "         0.66442267, 0.67039611, 0.67639693, 0.68242411, 0.68847672,\n",
       "         0.69455385, 0.70065462, 0.70677823, 0.71292387, 0.7190908 ,\n",
       "         0.7252783 , 0.73148567, 0.73771226, 0.74395743, 0.7502206 ,\n",
       "         0.75650117, 0.76279859, 0.76911233, 0.77544188, 0.78178676,\n",
       "         0.7881465 , 0.79452063, 0.80090874, 0.80731041, 0.81372524,\n",
       "         0.82015284, 0.82659284, 0.83304489, 0.83950866, 0.8459838 ,\n",
       "         0.85247   , 0.85896696, 0.86547439, 0.87199199, 0.8785195 ,\n",
       "         0.88505665, 0.89160319, 0.89815887, 0.90472345, 0.91129671,\n",
       "         0.91787842, 0.92446837, 0.93106635, 0.93767217, 0.94428562,\n",
       "         0.95090653, 0.95753471, 0.96416999, 0.97081219, 0.97746115,\n",
       "         0.98411672, 0.99077874, 0.99744706])),\n",
       " (array([0.89442719, 0.89442719, 0.89453898, 0.8947625 , 0.89509756,\n",
       "         0.8955439 , 0.89610114, 0.89676883, 0.89754642, 0.89843326,\n",
       "         0.89942864, 0.90053172, 0.90174164, 0.90305741, 0.90447801,\n",
       "         0.90600233, 0.90762919, 0.90935738, 0.9111856 , 0.91311253,\n",
       "         0.91513678, 0.91725695, 0.91947157, 0.92177917, 0.92417822,\n",
       "         0.9266672 , 0.92924455, 0.9319087 , 0.93465807, 0.93749108,\n",
       "         0.94040613, 0.94340163, 0.94647599, 0.94962763, 0.95285497,\n",
       "         0.95615644, 0.95953048, 0.96297556, 0.96649015, 0.97007274,\n",
       "         0.97372184, 0.97743599, 0.98121373, 0.98505365, 0.98895434,\n",
       "         0.99291443, 0.99693257]),\n",
       "  array([1.        , 0.99      , 0.98000062, 0.97000312, 0.96000874,\n",
       "         0.9500187 , 0.94003424, 0.93005656, 0.92008684, 0.91012624,\n",
       "         0.9001759 , 0.89023693, 0.88031039, 0.87039733, 0.86049875,\n",
       "         0.85061561, 0.84074883, 0.8308993 , 0.82106784, 0.81125524,\n",
       "         0.80146227, 0.79168961, 0.78193792, 0.77220781, 0.76249985,\n",
       "         0.75281455, 0.74315239, 0.73351381, 0.72389919, 0.71430887,\n",
       "         0.70474318, 0.69520238, 0.68568669, 0.67619632, 0.66673142,\n",
       "         0.65729212, 0.64787853, 0.63849069, 0.62912866, 0.61979243,\n",
       "         0.61048201, 0.60119734, 0.59193836, 0.582705  , 0.57349714,\n",
       "         0.56431468, 0.55515746])),\n",
       " (array([], dtype=float64), array([], dtype=float64)),\n",
       " (array([], dtype=float64), array([], dtype=float64))]"
      ]
     },
     "execution_count": 19,
     "metadata": {},
     "output_type": "execute_result"
    }
   ],
   "source": [
    " contour(f, 0.2 ) \n"
   ]
  },
  {
   "cell_type": "code",
   "execution_count": 22,
   "metadata": {},
   "outputs": [
    {
     "ename": "NameError",
     "evalue": "name 'matplotlib' is not defined",
     "output_type": "error",
     "traceback": [
      "\u001b[1;31m---------------------------------------------------------------------------\u001b[0m",
      "\u001b[1;31mNameError\u001b[0m                                 Traceback (most recent call last)",
      "\u001b[1;32m<ipython-input-22-2a3edfd7c9e0>\u001b[0m in \u001b[0;36m<module>\u001b[1;34m\u001b[0m\n\u001b[0;32m      1\u001b[0m \u001b[0mlevel_curves\u001b[0m \u001b[1;33m=\u001b[0m \u001b[0mcontour\u001b[0m\u001b[1;33m(\u001b[0m\u001b[0mf\u001b[0m\u001b[1;33m,\u001b[0m \u001b[1;36m0.02\u001b[0m\u001b[1;33m)\u001b[0m\u001b[1;33m\u001b[0m\u001b[1;33m\u001b[0m\u001b[0m\n\u001b[0;32m      2\u001b[0m \u001b[1;32mfor\u001b[0m \u001b[0mx\u001b[0m\u001b[1;33m,\u001b[0m \u001b[0my\u001b[0m \u001b[1;32min\u001b[0m \u001b[0mlevel_curves\u001b[0m\u001b[1;33m:\u001b[0m\u001b[1;33m\u001b[0m\u001b[1;33m\u001b[0m\u001b[0m\n\u001b[1;32m----> 3\u001b[1;33m     \u001b[0mmatplotlib\u001b[0m\u001b[1;33m.\u001b[0m\u001b[0mpyplot\u001b[0m\u001b[1;33m.\u001b[0m\u001b[0mplot\u001b[0m\u001b[1;33m(\u001b[0m\u001b[0mx\u001b[0m\u001b[1;33m,\u001b[0m \u001b[0my\u001b[0m\u001b[1;33m)\u001b[0m\u001b[1;33m\u001b[0m\u001b[1;33m\u001b[0m\u001b[0m\n\u001b[0m\u001b[0;32m      4\u001b[0m \u001b[1;33m\u001b[0m\u001b[0m\n",
      "\u001b[1;31mNameError\u001b[0m: name 'matplotlib' is not defined"
     ]
    }
   ],
   "source": [
    "level_curves = contour(f, 0.02) \n",
    "for x, y in level_curves:\n",
    "    matplotlib.pyplot.plot(x, y)\n",
    "    "
   ]
  },
  {
   "cell_type": "code",
   "execution_count": null,
   "metadata": {},
   "outputs": [],
   "source": []
  }
 ],
 "metadata": {
  "celltoolbar": "Aucun(e)",
  "kernelspec": {
   "display_name": "Python 3",
   "language": "python",
   "name": "python3"
  },
  "language_info": {
   "codemirror_mode": {
    "name": "ipython",
    "version": 3
   },
   "file_extension": ".py",
   "mimetype": "text/x-python",
   "name": "python",
   "nbconvert_exporter": "python",
   "pygments_lexer": "ipython3",
   "version": "3.7.3"
  }
 },
 "nbformat": 4,
 "nbformat_minor": 2
}
