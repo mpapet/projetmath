{
 "cells": [
  {
   "cell_type": "code",
   "execution_count": 3,
   "metadata": {},
   "outputs": [],
   "source": [
    "import numpy as np\n",
    "import autograd\n",
    "import matplotlib.pyplot as plt "
   ]
  },
  {
   "cell_type": "markdown",
   "metadata": {},
   "source": [
    "# 1. Contour simple"
   ]
  },
  {
   "cell_type": "markdown",
   "metadata": {},
   "source": [
    "## 1.1.Amorce"
   ]
  },
  {
   "cell_type": "markdown",
   "metadata": {},
   "source": [
    "Pour s'assurer que l'on trouvera bien un t tel que f(0,t) = c sur l'intervalle [0, 1], on s'appuie sur le théorème des valeurs intermédiaires (la fonction f étant continûment différentiable), et on s'assure que la fonction telle que g(t) = f(0, t) - c change bien de signe sur notre intervalle.\n",
    "On implémente alors la fonction find_seed qui nous renvoie le t recherché, à epsilon près. La recherche de t est basée sur le principe de dichotomie :"
   ]
  },
  {
   "cell_type": "code",
   "execution_count": 4,
   "metadata": {},
   "outputs": [],
   "source": [
    "def find_seed(g, x=0, c =0, eps = 2**(-26)):\n",
    "    \"\"\"\n",
    "    trouve la valeur t telle que g(t) = c à epsilon près\n",
    "    \"\"\"\n",
    "    \n",
    "    gauche = 0\n",
    "    droite = 1\n",
    "    \n",
    "    if (g(x,0)-c)*(g(x,1)-c) > 0 :\n",
    "        return None\n",
    "        \n",
    "    while ((droite-gauche)/2) >= eps :\n",
    "        milieu = (droite + gauche)/2\n",
    "        \n",
    "        if (g(x,droite)-c)*(g(x,milieu)-c)<=0 :\n",
    "            gauche = milieu\n",
    "        \n",
    "        else :\n",
    "            droite = milieu\n",
    "    \n",
    "    return (droite+gauche)/2"
   ]
  },
  {
   "cell_type": "markdown",
   "metadata": {},
   "source": [
    "## 1.2.Propagation"
   ]
  },
  {
   "cell_type": "markdown",
   "metadata": {},
   "source": [
    "1.2.1 Première propagation"
   ]
  },
  {
   "cell_type": "markdown",
   "metadata": {},
   "source": [
    "On va maintenant implémenter une fonction qui renvoie une fraction de ligne de niveau (toujours contenue dans [0, 1]²), sous forme de deux tableaux contenant les abscisses et les ordonnées, en utilisant la fonction find_seed."
   ]
  },
  {
   "cell_type": "code",
   "execution_count": 6,
   "metadata": {},
   "outputs": [],
   "source": [
    "def simple_contour1(f, c, delta=0.01) :\n",
    "    \"\"\"\n",
    "    renvoie un fragment de ligne de niveau de valeur c de f\n",
    "    sou la forme de deux tableaux \n",
    "    \"\"\"\n",
    "    xo = 0.0\n",
    "    yo = find_seed(f, xo, c)\n",
    "    if yo==None :\n",
    "        return [], []\n",
    "    X = []\n",
    "    Y=[]\n",
    "\n",
    "    while xo <=1 :\n",
    "        yo = find_seed(f, xo, c)\n",
    "        if yo != None :\n",
    "            X.append(xo)\n",
    "            Y.append(yo)\n",
    "        xo = xo + delta\n",
    "    return X, Y           "
   ]
  },
  {
   "cell_type": "code",
   "execution_count": 12,
   "metadata": {},
   "outputs": [
    {
     "data": {
      "image/png": "[encoded data removed]",
      "text/plain": [
       "<Figure size 432x288 with 1 Axes>"
      ]
     },
     "metadata": {
      "needs_background": "light"
     },
     "output_type": "display_data"
    }
   ],
   "source": [
    "## Test de notre permière fonction \n",
    "def f (x, y) :\n",
    "    return y**2-x**2\n",
    "\n",
    "X, Y = simple_contour1(f, 0.2 ) \n",
    "Xsec = np.arange(0, 1, 0.01)\n",
    "Ysec = np.arange(0, 1, 0.01)\n",
    "Xsec, Ysec = np.meshgrid(Xsec, Ysec)\n",
    "Z = f(Xsec, Ysec)\n",
    "plt.axis('equal')\n",
    "plt.contour(Xsec, Ysec, Z, [0.2])\n",
    "plt.plot(X,Y, label = 'Ligne de niveau tracée par notre fonction')\n",
    "plt.legend()\n",
    "plt.show()"
   ]
  },
  {
   "cell_type": "markdown",
   "metadata": {},
   "source": [
    "Notre première fonction présente plusieurs problèmes : \n",
    "- Pour une fonction plus complexe, plusieurs solutions pourraient être trouvée par la dichotomie, et on ne peut être certain que l'on obtiendra la bonne.\n",
    "- La condition d'arrêt suppose que la ligne de niveau atteigne un second bord, ce qui n'est pas forcément la cas..."
   ]
  },
  {
   "cell_type": "markdown",
   "metadata": {},
   "source": [
    "1.2.2 Deuxième propagation"
   ]
  },
  {
   "cell_type": "markdown",
   "metadata": {},
   "source": [
    "Commentaire sur l'efficacité de cette méthode\n",
    "Implémentation d'une seconde méthode avec gradient"
   ]
  },
  {
   "cell_type": "code",
   "execution_count": 28,
   "metadata": {
    "scrolled": true
   },
   "outputs": [],
   "source": [
    "def grad_f(x,y) :\n",
    "    \"\"\"\n",
    "    calcule le gradient de f au point (x, y)\n",
    "    \"\"\"\n",
    "    g = autograd.grad\n",
    "    return np.r_[g(f,0)(x, y), g(f, 1)(x,y)]\n",
    "\n",
    "def norme_un (vecteur) :\n",
    "    \"\"\"\n",
    "    prend en entrée un vecteur de R² et le rend unitaire\n",
    "    \"\"\"\n",
    "    return [vecteur[0]/(vecteur[0]**2 + vecteur[1]**2)**(1/2), vecteur[1]/(vecteur[0]**2 + vecteur[1]**2)**(1/2)]\n",
    "\n",
    "def simple_contour2(f, c, delta = 0.01) :\n",
    "    \"\"\"\n",
    "    renvoie un fragment de ligne de niveau de valeur c de f\n",
    "    sous la forme de deux tableaux \n",
    "    \"\"\" \n",
    "    xo = 0.0\n",
    "    yo = find_seed (f,xo,c)\n",
    "    x = [xo]\n",
    "    y = [yo]\n",
    "    if yo == None :\n",
    "        return [], []\n",
    "    else :\n",
    "        signe = grad_f(xo, yo)[1]/abs(grad_f(xo, yo)[1])\n",
    "        vecteur_directeur = norme_un([signe*grad_f(xo, yo)[1], -signe*grad_f(xo, yo)[0]])\n",
    "        xo = xo + vecteur_directeur[0]*delta\n",
    "        yo = yo + vecteur_directeur[1]*delta\n",
    "    while xo <= 1 and yo <= 1 :\n",
    "        x.append(xo)\n",
    "        y.append(yo)\n",
    "        vecteur_directeur = norme_un([signe*grad_f(xo, yo)[1], -signe*grad_f(xo, yo)[0]])\n",
    "        xo = xo + vecteur_directeur[0]*delta\n",
    "        yo = yo + vecteur_directeur[1]*delta\n",
    "    return x, y\n"
   ]
  },
  {
   "cell_type": "code",
   "execution_count": 14,
   "metadata": {},
   "outputs": [
    {
     "data": {
      "image/png": "[encoded data removed]",
      "text/plain": [
       "<Figure size 432x288 with 1 Axes>"
      ]
     },
     "metadata": {
      "needs_background": "light"
     },
     "output_type": "display_data"
    }
   ],
   "source": [
    "## Test de la deuxième fonction\n",
    "X, Y = simple_contour2(f, 0.2 ) \n",
    "Xsec = np.arange(0, 1, 0.01)\n",
    "Ysec = np.arange(0, 1, 0.01)\n",
    "Xsec, Ysec = np.meshgrid(Xsec, Ysec)\n",
    "Z = f(Xsec, Ysec)\n",
    "plt.axis('equal')\n",
    "plt.contour(Xsec, Ysec, Z, [0.2])\n",
    "plt.plot(X,Y, label = 'Ligne de niveau tracée par notre fonction')\n",
    "plt.legend()\n",
    "plt.show()"
   ]
  },
  {
   "cell_type": "markdown",
   "metadata": {},
   "source": [
    "1.2.3. Troisième propagation "
   ]
  },
  {
   "cell_type": "markdown",
   "metadata": {},
   "source": [
    "Nouvelle version améliorée par l'aléatoire"
   ]
  },
  {
   "cell_type": "code",
   "execution_count": 58,
   "metadata": {},
   "outputs": [],
   "source": [
    "import numpy as np\n",
    "import matplotlib.pyplot as plt\n",
    "from random import*\n",
    "\n",
    "def arc_cercle(vecteur, angle = np.pi/4) :\n",
    "    rotation1 = np.array([[np.cos(angle), -np.sin(angle)], [np.sin(angle), np.cos(angle)]])\n",
    "    vecteur1 = np.dot(rotation1 , vecteur)\n",
    "    rotation2 = np.array([[np.cos(angle), np.sin(angle)], [-np.sin(angle), np.cos(angle)]])\n",
    "    vecteur2 = np.dot(rotation2, vecteur)\n",
    "    return max(vecteur1[0], vecteur2[0])- min(vecteur1[0], vecteur2[0]) \n",
    "\n",
    "def max(x, y) :\n",
    "    if x >= y :\n",
    "        return x\n",
    "    else :\n",
    "        return y\n",
    "\n",
    "def min(x, y) :\n",
    "    if x <= y :\n",
    "        return x\n",
    "    else :\n",
    "        return y\n",
    "\n",
    "def simple_contour3(f, c, delta = 0.01, epsilon = 10**-12) :\n",
    "    \"\"\"\n",
    "    renvoie un fragment de ligne de niveau de valeur c de f\n",
    "    sous la forme de deux tableaux, sur la même méthode mais en affinant en générant un point aléatoire sur un arc de cercle\n",
    "    de centre le point précédent, de rayon delta et centré sur le point trouvé par la méthode classique \n",
    "    \"\"\"\n",
    "    x = []\n",
    "    y = []\n",
    "    xo = 0.0\n",
    "    yo = find_seed (f, xo ,c)\n",
    "    nouvx = xo\n",
    "    nouvy=yo\n",
    "    k = 0 # va compter le nombre de points trouvés sur l ligne de champ\n",
    "    if yo == None :\n",
    "        return x, y\n",
    "    else :\n",
    "        signe = grad_f(xo, yo)[1]/abs(grad_f(xo, yo)[1])\n",
    "        x.append(xo)\n",
    "        y.append(yo)\n",
    "        k+=1\n",
    "        vecteur_directeur = norme_un([signe*grad_f(xo, yo)[1], -1*signe*grad_f(xo, yo)[0]])\n",
    "        xo = xo + vecteur_directeur[0]*delta\n",
    "        yo = yo + vecteur_directeur[1]*delta        \n",
    "    while xo <= 1 and yo <= 1 and yo >=0 :\n",
    "        if abs(f(xo, yo) -c) > epsilon : \n",
    "            ## si le point n'est pas satistaisant, \n",
    "            ## on en cherche un dans son voisinage, à une distance delta du précédent, aléatoirement\n",
    "            n = 0 \n",
    "            while n < 5000 and abs(f(nouvx, nouvy)-c) > epsilon : \n",
    "                ## on veille à avoir un programme qui se termine toujours, même dans un cas dégénéré\n",
    "                n+=1\n",
    "                nouvx = x[k-1] + random()*(arc_cercle(np.array(vecteur_directeur)))\n",
    "                nouvy = (abs(nouvx**2 - delta**2))**(1/2)\n",
    "                if abs(f(nouvx, nouvy)-c) <= abs(f(xo, yo )-c) :\n",
    "                    xo = nouvx\n",
    "                    yo = nouvy \n",
    "        x.append(xo)\n",
    "        y.append(yo)\n",
    "        k+=1\n",
    "        vecteur_directeur = norme_un([signe*grad_f(xo, yo)[1], -1*signe*grad_f(xo, yo)[0]])\n",
    "        xo = xo + vecteur_directeur[0]*delta\n",
    "        yo = yo + vecteur_directeur[1]*delta\n",
    "    return x, y \n",
    "                "
   ]
  },
  {
   "cell_type": "code",
   "execution_count": 59,
   "metadata": {},
   "outputs": [
    {
     "data": {
      "image/png": "[encoded data removed]",
      "text/plain": [
       "<Figure size 432x288 with 1 Axes>"
      ]
     },
     "metadata": {
      "needs_background": "light"
     },
     "output_type": "display_data"
    }
   ],
   "source": [
    "X, Y = simple_contour3(f, 0.2 ) \n",
    "Xsec = np.arange(0, 1, 0.01)\n",
    "Ysec = np.arange(0, 1, 0.01)\n",
    "Xsec, Ysec = np.meshgrid(Xsec, Ysec)\n",
    "Z = f(Xsec, Ysec)\n",
    "plt.axis('equal')\n",
    "plt.contour(Xsec, Ysec, Z, [0.2])\n",
    "plt.plot(X,Y, label = 'Ligne de niveau tracée par notre fonction')\n",
    "plt.legend()\n",
    "plt.show()"
   ]
  },
  {
   "cell_type": "markdown",
   "metadata": {},
   "source": [
    "1.2.4. Bonus : application du théorème des fonctions implicites "
   ]
  },
  {
   "cell_type": "raw",
   "metadata": {},
   "source": [
    "On implémente une nouvelle version de simple contour qui utilise le théorème des fonctions implicites"
   ]
  },
  {
   "cell_type": "code",
   "execution_count": 62,
   "metadata": {},
   "outputs": [],
   "source": [
    "\n",
    "\n",
    "\n",
    "def simple_contour4(f,c,delta=0.01):  \n",
    "    X=[]\n",
    "    Y=[]\n",
    "    x0=0.0\n",
    "    y0=find_seed(f,x0,c)\n",
    "    while x0<=1 and y0<=1:\n",
    "       \n",
    "        x0=x0+delta\n",
    "        y0=y0+(-grad_f(x0,y0)[0]/grad_f(x0,y0)[1])*x0\n",
    "        X.append(x0)\n",
    "        Y.append(y0)\n",
    "    return X, Y\n"
   ]
  },
  {
   "cell_type": "raw",
   "metadata": {},
   "source": [
    "On teste cette version 3 pour une fonction f:"
   ]
  },
  {
   "cell_type": "code",
   "execution_count": 63,
   "metadata": {},
   "outputs": [
    {
     "data": {
      "image/png": "[encoded data removed]",
      "text/plain": [
       "<Figure size 432x288 with 1 Axes>"
      ]
     },
     "metadata": {
      "needs_background": "light"
     },
     "output_type": "display_data"
    }
   ],
   "source": [
    "\n",
    "\n",
    "X, Y = simple_contour4(f, 0.2 ) \n",
    "plt.plot(X,Y)\n",
    "plt.show()"
   ]
  },
  {
   "cell_type": "markdown",
   "metadata": {},
   "source": [
    "# 2. Contour complexe "
   ]
  },
  {
   "cell_type": "code",
   "execution_count": null,
   "metadata": {},
   "outputs": [],
   "source": [
    "#version m\n",
    "def contour(f,c=0.0, xc=[0.0,1.0], yc=[0.0,1.0], delta=0.01):\n",
    "    xs=[]\n",
    "    ys=[]\n",
    "    for i in range(len(xc)):#pour chaque cellule\n",
    "     \n",
    "    \n",
    "    \n",
    "        "
   ]
  }
 ],
 "metadata": {
  "celltoolbar": "Aucun(e)",
  "kernelspec": {
   "display_name": "Python 3",
   "language": "python",
   "name": "python3"
  },
  "language_info": {
   "codemirror_mode": {
    "name": "ipython",
    "version": 3
   },
   "file_extension": ".py",
   "mimetype": "text/x-python",
   "name": "python",
   "nbconvert_exporter": "python",
   "pygments_lexer": "ipython3",
   "version": "3.7.4"
  }
 },
 "nbformat": 4,
 "nbformat_minor": 2
}
